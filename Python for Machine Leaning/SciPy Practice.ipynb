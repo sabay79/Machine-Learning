{
  "metadata": {
    "kernelspec": {
      "name": "python",
      "display_name": "Python (Pyodide)",
      "language": "python"
    },
    "language_info": {
      "codemirror_mode": {
        "name": "python",
        "version": 3
      },
      "file_extension": ".py",
      "mimetype": "text/x-python",
      "name": "python",
      "nbconvert_exporter": "python",
      "pygments_lexer": "ipython3",
      "version": "3.8"
    }
  },
  "nbformat_minor": 5,
  "nbformat": 4,
  "cells": [
    {
      "cell_type": "markdown",
      "source": "# SciPy - Python",
      "metadata": {},
      "id": "05f54015-bdfa-4540-9cb4-b2e1b93127ed"
    },
    {
      "cell_type": "markdown",
      "source": "## Constant Units",
      "metadata": {},
      "id": "5f83214c-7ba7-4f98-b36e-646026c7cf5d"
    },
    {
      "cell_type": "code",
      "source": "from scipy import constants",
      "metadata": {
        "trusted": true
      },
      "execution_count": 1,
      "outputs": [],
      "id": "e649cdb0-f8d4-41a8-ba76-4162fec03866"
    },
    {
      "cell_type": "code",
      "source": "#List of all constants\nfor i in dir(constants):\n    print(i)",
      "metadata": {
        "trusted": true
      },
      "execution_count": 2,
      "outputs": [
        {
          "name": "stdout",
          "text": "Avogadro\nBoltzmann\nBtu\nBtu_IT\nBtu_th\nConstantWarning\nG\nJulian_year\nN_A\nPlanck\nR\nRydberg\nStefan_Boltzmann\nWien\n__all__\n__builtins__\n__cached__\n__doc__\n__file__\n__loader__\n__name__\n__package__\n__path__\n__spec__\n_codata\n_constants\n_obsolete_constants\nacre\nalpha\nangstrom\narcmin\narcminute\narcsec\narcsecond\nastronomical_unit\natm\natmosphere\natomic_mass\natto\nau\nbar\nbarrel\nbbl\nblob\nc\ncalorie\ncalorie_IT\ncalorie_th\ncarat\ncenti\ncodata\nconstants\nconvert_temperature\nday\ndeci\ndegree\ndegree_Fahrenheit\ndeka\ndyn\ndyne\ne\neV\nelectron_mass\nelectron_volt\nelementary_charge\nepsilon_0\nerg\nexa\nexbi\nfemto\nfermi\nfind\nfine_structure\nfluid_ounce\nfluid_ounce_US\nfluid_ounce_imp\nfoot\ng\ngallon\ngallon_US\ngallon_imp\ngas_constant\ngibi\ngiga\ngolden\ngolden_ratio\ngrain\ngram\ngravitational_constant\nh\nhbar\nhectare\nhecto\nhorsepower\nhour\nhp\ninch\nk\nkgf\nkibi\nkilo\nkilogram_force\nkmh\nknot\nlambda2nu\nlb\nlbf\nlight_year\nliter\nlitre\nlong_ton\nm_e\nm_n\nm_p\nm_u\nmach\nmebi\nmega\nmetric_ton\nmicro\nmicron\nmil\nmile\nmilli\nminute\nmmHg\nmph\nmu_0\nnano\nnautical_mile\nneutron_mass\nnu2lambda\nounce\noz\nparsec\npebi\npeta\nphysical_constants\npi\npico\npoint\npound\npound_force\nprecision\nproton_mass\npsi\npt\nshort_ton\nsigma\nslinch\nslug\nspeed_of_light\nspeed_of_sound\nstone\nsurvey_foot\nsurvey_mile\ntebi\ntera\ntest\nton_TNT\ntorr\ntroy_ounce\ntroy_pound\nu\nunit\nvalue\nweek\nyard\nyear\nyobi\nyocto\nyotta\nzebi\nzepto\nzero_Celsius\nzetta\n",
          "output_type": "stream"
        }
      ],
      "id": "eb57978a-5375-41e6-bedc-d6480d9fc379"
    },
    {
      "cell_type": "markdown",
      "source": "### SI Prefixes:",
      "metadata": {},
      "id": "df6d6c57-0b35-44f6-bbc7-39c450bf3e59"
    },
    {
      "cell_type": "markdown",
      "source": "(meter)",
      "metadata": {},
      "id": "cac2564d-9b3d-4c4a-aad8-60ae32c63dcf"
    },
    {
      "cell_type": "code",
      "source": "print('yotta',constants.yotta)\nprint('zetta',constants.zetta)\nprint('exa',constants.exa)\nprint('peta',constants.peta)\nprint('tera',constants.tera)\nprint('giga',constants.giga)\nprint('mega',constants.mega)\nprint('kilo',constants.kilo)\nprint('hecto',constants.hecto)\nprint('deka',constants.deka)\nprint('deci',constants.deci)\nprint('centi',constants.centi)\nprint('milli',constants.milli)\nprint('micro',constants.micro)\nprint('nano',constants.nano)\nprint('pico',constants.pico)\nprint('femto',constants.femto)\nprint('atto',constants.atto)\nprint('zepto',constants.zepto)",
      "metadata": {
        "trusted": true
      },
      "execution_count": 3,
      "outputs": [
        {
          "name": "stdout",
          "text": "yotta 1e+24\nzetta 1e+21\nexa 1e+18\npeta 1000000000000000.0\ntera 1000000000000.0\ngiga 1000000000.0\nmega 1000000.0\nkilo 1000.0\nhecto 100.0\ndeka 10.0\ndeci 0.1\ncenti 0.01\nmilli 0.001\nmicro 1e-06\nnano 1e-09\npico 1e-12\nfemto 1e-15\natto 1e-18\nzepto 1e-21\n",
          "output_type": "stream"
        }
      ],
      "id": "746170e7-d618-4470-8fc2-4c3c33924783"
    },
    {
      "cell_type": "markdown",
      "source": "### Binary Prefixes:",
      "metadata": {},
      "id": "e61793b6-b397-46d5-829d-ab16ac0093a9"
    },
    {
      "cell_type": "markdown",
      "source": "(bytes)",
      "metadata": {},
      "id": "ed35f125-1ae9-4dfa-9e94-5a4f18f0d1c3"
    },
    {
      "cell_type": "code",
      "source": "print(constants.kibi)#1024\nprint(constants.mebi)#1048576\nprint(constants.gibi)#1073741824\nprint(constants.tebi)#1099511627776\nprint(constants.pebi)#1125899906842624\nprint(constants.exbi)#1152921504606846976\nprint(constants.zebi)#1180591620717411303424\nprint(constants.yobi)#1208925819614629174706176",
      "metadata": {
        "trusted": true
      },
      "execution_count": 4,
      "outputs": [
        {
          "name": "stdout",
          "text": "1024\n1048576\n1073741824\n1099511627776\n1125899906842624\n1152921504606846976\n1180591620717411303424\n1208925819614629174706176\n",
          "output_type": "stream"
        }
      ],
      "id": "71438a68-e6dd-4d3f-98c4-51506b67df89"
    },
    {
      "cell_type": "markdown",
      "source": "### Mass:",
      "metadata": {},
      "id": "4ea1828b-d1ba-44d6-8749-edebc2ec26a8"
    },
    {
      "cell_type": "markdown",
      "source": "(kilograms)",
      "metadata": {},
      "id": "02627b37-88c3-4f26-a426-d31a78a88c8d"
    },
    {
      "cell_type": "code",
      "source": "print(constants.gram)#0.001\nprint(constants.metric_ton)#1000.0\nprint(constants.grain)#6.479891e-05\nprint(constants.lb)#0.45359236999999997\nprint(constants.pound)#0.45359236999999997\nprint(constants.oz)#0.028349523124999998\nprint(constants.ounce)#0.028349523124999998\nprint(constants.stone)#6.3502931799999995\nprint(constants.long_ton)#1016.0469088\nprint(constants.short_ton)#907.1847399999999\nprint(constants.troy_ounce)#0.031103476799999998\nprint(constants.troy_pound)#0.37324172159999996\nprint(constants.carat)#0.0002\nprint(constants.atomic_mass)#1.66053904e-27\nprint(constants.m_u)#1.66053904e-27\nprint(constants.u)#1.66053904e-27",
      "metadata": {
        "trusted": true
      },
      "execution_count": 5,
      "outputs": [
        {
          "name": "stdout",
          "text": "0.001\n1000.0\n6.479891e-05\n0.45359236999999997\n0.45359236999999997\n0.028349523124999998\n0.028349523124999998\n6.3502931799999995\n1016.0469088\n907.1847399999999\n0.031103476799999998\n0.37324172159999996\n0.0002\n1.6605390666e-27\n1.6605390666e-27\n1.6605390666e-27\n",
          "output_type": "stream"
        }
      ],
      "id": "a732a0b4-cc73-400e-8ea7-4b2ffe973ded"
    },
    {
      "cell_type": "markdown",
      "source": "### Angle:",
      "metadata": {},
      "id": "cffd5f96-5f5f-4214-a486-8ee72b90c849"
    },
    {
      "cell_type": "markdown",
      "source": "(radians)",
      "metadata": {},
      "id": "d5926644-bd7a-413d-9bcd-2f7401aaf4a4"
    },
    {
      "cell_type": "code",
      "source": "print(constants.degree)#0.017453292519943295\nprint(constants.arcmin)#0.0002908882086657216\nprint(constants.arcminute)#0.0002908882086657216\nprint(constants.arcsec)#4.84813681109536e-06\nprint(constants.arcsecond)#4.84813681109536e-06",
      "metadata": {
        "trusted": true
      },
      "execution_count": 6,
      "outputs": [
        {
          "name": "stdout",
          "text": "0.017453292519943295\n0.0002908882086657216\n0.0002908882086657216\n4.84813681109536e-06\n4.84813681109536e-06\n",
          "output_type": "stream"
        }
      ],
      "id": "bb6336b9-f45b-4c70-b00b-6c9a1beb175d"
    },
    {
      "cell_type": "markdown",
      "source": "### Time:",
      "metadata": {},
      "id": "777bfb32-8f6c-4faf-8b13-e557f8afae41"
    },
    {
      "cell_type": "markdown",
      "source": "(seconds)",
      "metadata": {},
      "id": "d5f4ef53-448d-4ed4-8d05-705f538be5d7"
    },
    {
      "cell_type": "code",
      "source": "print(constants.minute)#60.0\nprint(constants.hour)#3600.0\nprint(constants.day)#86400.0\nprint(constants.week)#604800.0\nprint(constants.year)#31536000.0\nprint(constants.Julian_year)#31557600.0",
      "metadata": {
        "trusted": true
      },
      "execution_count": 7,
      "outputs": [
        {
          "name": "stdout",
          "text": "60.0\n3600.0\n86400.0\n604800.0\n31536000.0\n31557600.0\n",
          "output_type": "stream"
        }
      ],
      "id": "a5a824c2-6b37-40e8-a612-f9690da4f6e2"
    },
    {
      "cell_type": "markdown",
      "source": "### Length:",
      "metadata": {},
      "id": "74eca707-97a8-4090-8bed-e571a75e0efb"
    },
    {
      "cell_type": "markdown",
      "source": "(meters)",
      "metadata": {},
      "id": "860c42bc-c2e2-43e2-b394-168577b04167"
    },
    {
      "cell_type": "code",
      "source": "print(constants.inch)#0.0254\nprint(constants.foot)#0.30479999999999996\nprint(constants.yard)#0.9143999999999999\nprint(constants.mile)#1609.3439999999998\nprint(constants.mil)#2.5399999999999997e-05\nprint(constants.pt)#0.00035277777777777776\nprint(constants.point)#0.00035277777777777776\nprint(constants.survey_foot)#0.3048006096012192\nprint(constants.survey_mile)#1609.3472186944373\nprint(constants.nautical_mile)#1852.0\nprint(constants.fermi)#1e-15\nprint(constants.angstrom)#1e-10\nprint(constants.micron)#1e-06\nprint(constants.au)#149597870691.0\nprint(constants.astronomical_unit)#149597870691.0\nprint(constants.light_year)#9460730472580800.0\nprint(constants.parsec)#3.0856775813057292e+16",
      "metadata": {
        "trusted": true
      },
      "execution_count": 8,
      "outputs": [
        {
          "name": "stdout",
          "text": "0.0254\n0.30479999999999996\n0.9143999999999999\n1609.3439999999998\n2.5399999999999997e-05\n0.00035277777777777776\n0.00035277777777777776\n0.3048006096012192\n1609.3472186944373\n1852.0\n1e-15\n1e-10\n1e-06\n149597870700.0\n149597870700.0\n9460730472580800.0\n3.085677581491367e+16\n",
          "output_type": "stream"
        }
      ],
      "id": "601788b7-b4d2-4b66-8524-bfc49cccd85e"
    },
    {
      "cell_type": "markdown",
      "source": "### Pressure:",
      "metadata": {},
      "id": "0f6b1673-4d08-43f0-aded-98e438cb3e92"
    },
    {
      "cell_type": "markdown",
      "source": "(pascal)",
      "metadata": {},
      "id": "42e6af7e-e423-4739-afed-25ccdfd417bb"
    },
    {
      "cell_type": "code",
      "source": "print(constants.atm)#101325.0\nprint(constants.atmosphere)#101325.0\nprint(constants.bar)#100000.0\nprint(constants.torr)#133.32236842105263\nprint(constants.mmHg)#133.32236842105263\nprint(constants.psi)#6894.757293168361",
      "metadata": {
        "trusted": true
      },
      "execution_count": 9,
      "outputs": [
        {
          "name": "stdout",
          "text": "101325.0\n101325.0\n100000.0\n133.32236842105263\n133.32236842105263\n6894.757293168361\n",
          "output_type": "stream"
        }
      ],
      "id": "73b35884-3566-4942-b333-44b6cbc85d32"
    },
    {
      "cell_type": "markdown",
      "source": "### Area:",
      "metadata": {},
      "id": "716c1ff5-4eec-47e5-bcd4-fada98416149"
    },
    {
      "cell_type": "markdown",
      "source": "(square meters)",
      "metadata": {},
      "id": "5c457b42-d91e-48e3-946c-d8dc4cbd1585"
    },
    {
      "cell_type": "code",
      "source": "print(constants.hectare)#10000.0\nprint(constants.acre)#4046.8564223999992",
      "metadata": {
        "trusted": true
      },
      "execution_count": 10,
      "outputs": [
        {
          "name": "stdout",
          "text": "10000.0\n4046.8564223999992\n",
          "output_type": "stream"
        }
      ],
      "id": "5a850aa6-78bb-43ae-bdec-bf9df9f5b3b8"
    },
    {
      "cell_type": "markdown",
      "source": "### Speed:",
      "metadata": {},
      "id": "e11e0cbb-dc7d-4e96-87c1-912e27c57ff1"
    },
    {
      "cell_type": "markdown",
      "source": "(meters per second)",
      "metadata": {},
      "id": "ec330dd8-4bb0-42a7-b88d-b179b316111c"
    },
    {
      "cell_type": "code",
      "source": "print(constants.kmh)#0.2777777777777778\nprint(constants.mph)#0.44703999999999994\nprint(constants.mach)#340.5\nprint(constants.speed_of_sound)#340.5\nprint(constants.knot)#0.5144444444444445",
      "metadata": {
        "trusted": true
      },
      "execution_count": 11,
      "outputs": [
        {
          "name": "stdout",
          "text": "0.2777777777777778\n0.44703999999999994\n340.5\n340.5\n0.5144444444444445\n",
          "output_type": "stream"
        }
      ],
      "id": "4f428015-269f-44ac-8994-2d2d30a34b5f"
    },
    {
      "cell_type": "markdown",
      "source": "### Temperature:",
      "metadata": {},
      "id": "285493d4-be3e-434d-80f5-e3e9330b9ec3"
    },
    {
      "cell_type": "markdown",
      "source": "(Kelvin)",
      "metadata": {},
      "id": "05dd4ec0-bce2-4706-8b51-80a1dc8372c3"
    },
    {
      "cell_type": "code",
      "source": "print(constants.zero_Celsius)#273.15\nprint(constants.degree_Fahrenheit)#0.5555555555555556",
      "metadata": {
        "trusted": true
      },
      "execution_count": 12,
      "outputs": [
        {
          "name": "stdout",
          "text": "273.15\n0.5555555555555556\n",
          "output_type": "stream"
        }
      ],
      "id": "a30f2540-3975-4254-9424-36b8875901f5"
    },
    {
      "cell_type": "markdown",
      "source": "### Energy:",
      "metadata": {},
      "id": "90a27bb9-1ab9-4e64-8961-bd070ea7be7d"
    },
    {
      "cell_type": "markdown",
      "source": "(joules)",
      "metadata": {},
      "id": "684cf40b-c745-4549-825d-6b24432f3c13"
    },
    {
      "cell_type": "code",
      "source": "print(constants.eV)#1.6021766208e-19\nprint(constants.electron_volt)#1.6021766208e-19\nprint(constants.calorie)#4.184\nprint(constants.calorie_th)#4.184\nprint(constants.calorie_IT)#4.1868\nprint(constants.erg)#1e-07\nprint(constants.Btu)#1055.05585262\nprint(constants.Btu_IT)#1055.05585262\nprint(constants.Btu_th)#1054.3502644888888\nprint(constants.ton_TNT)#4184000000.0",
      "metadata": {
        "trusted": true
      },
      "execution_count": 13,
      "outputs": [
        {
          "name": "stdout",
          "text": "1.602176634e-19\n1.602176634e-19\n4.184\n4.184\n4.1868\n1e-07\n1055.05585262\n1055.05585262\n1054.3502644888888\n4184000000.0\n",
          "output_type": "stream"
        }
      ],
      "id": "dad51e1e-7801-41d8-ae4e-6217d4d2f9b9"
    },
    {
      "cell_type": "markdown",
      "source": "### Power:",
      "metadata": {},
      "id": "8ea7a8c2-62b0-453d-ad80-760c93170e08"
    },
    {
      "cell_type": "markdown",
      "source": "(watts)",
      "metadata": {},
      "id": "f369cbf0-ed58-43e3-8a59-985f388f5db9"
    },
    {
      "cell_type": "code",
      "source": "print(constants.hp)#745.6998715822701\nprint(constants.horsepower)#745.6998715822701",
      "metadata": {
        "trusted": true
      },
      "execution_count": 14,
      "outputs": [
        {
          "name": "stdout",
          "text": "745.6998715822701\n745.6998715822701\n",
          "output_type": "stream"
        }
      ],
      "id": "99e8c0b3-3580-4704-a0e0-415b7b8109cd"
    },
    {
      "cell_type": "markdown",
      "source": "### Force:",
      "metadata": {},
      "id": "7a2d0d94-b5af-4a78-aaed-7120a090ab17"
    },
    {
      "cell_type": "markdown",
      "source": "(Newton)",
      "metadata": {},
      "id": "f2a6e5bf-c944-42d5-9757-e05907d49545"
    },
    {
      "cell_type": "code",
      "source": "print(constants.dyn)#1e-05\nprint(constants.dyne)#1e-05\nprint(constants.lbf)#4.4482216152605\nprint(constants.pound_force)#4.4482216152605\nprint(constants.kgf)#9.80665\nprint(constants.kilogram_force)#9.80665",
      "metadata": {
        "trusted": true
      },
      "execution_count": 15,
      "outputs": [
        {
          "name": "stdout",
          "text": "1e-05\n1e-05\n4.4482216152605\n4.4482216152605\n9.80665\n9.80665\n",
          "output_type": "stream"
        }
      ],
      "id": "63c4d4dc-bf9d-433a-8115-ff82dc11d76e"
    },
    {
      "cell_type": "markdown",
      "source": "## SciPy Optimizers",
      "metadata": {},
      "id": "8a19c86c-a82a-482b-8583-3b9e1750a309"
    },
    {
      "cell_type": "markdown",
      "source": "### Roots of an Equation",
      "metadata": {},
      "id": "ef9aa86a-c82e-4355-9966-f6b263889197"
    },
    {
      "cell_type": "code",
      "source": "from scipy.optimize import root\nfrom math import cos\n\ndef eqn(x):\n    return x+cos(x)\n\nmy_root = root(eqn,0)",
      "metadata": {
        "trusted": true
      },
      "execution_count": 16,
      "outputs": [],
      "id": "87f8bca8-c418-45db-9922-845681df5ca0"
    },
    {
      "cell_type": "code",
      "source": "print(my_root.x)",
      "metadata": {
        "trusted": true
      },
      "execution_count": 17,
      "outputs": [
        {
          "name": "stdout",
          "text": "[-0.73908513]\n",
          "output_type": "stream"
        }
      ],
      "id": "f72774bc-b258-479a-8de6-e870770483f0"
    },
    {
      "cell_type": "code",
      "source": "print(my_root)",
      "metadata": {
        "trusted": true
      },
      "execution_count": 18,
      "outputs": [
        {
          "name": "stdout",
          "text": "    fjac: array([[-1.]])\n     fun: array([0.])\n message: 'The solution converged.'\n    nfev: 9\n     qtf: array([-2.66786593e-13])\n       r: array([-1.67361202])\n  status: 1\n success: True\n       x: array([-0.73908513])\n",
          "output_type": "stream"
        }
      ],
      "id": "6653a43e-1b37-4c77-bbe5-85c0e27c54e7"
    },
    {
      "cell_type": "markdown",
      "source": "### Finding Minima",
      "metadata": {},
      "id": "e62a0075-df8c-4806-bbff-62604e7a8825"
    },
    {
      "cell_type": "code",
      "source": "from scipy.optimize import minimize\n\ndef eqn(x):\n    return x**2+x+2\n\nmy_min = minimize(eqn, 0, method='BFGS')",
      "metadata": {
        "trusted": true
      },
      "execution_count": 19,
      "outputs": [],
      "id": "90a2ff4b-f0eb-4b0f-8d6b-1a6cbac6be5e"
    },
    {
      "cell_type": "code",
      "source": "print(my_min.x)",
      "metadata": {
        "trusted": true
      },
      "execution_count": 20,
      "outputs": [
        {
          "name": "stdout",
          "text": "[-0.50000001]\n",
          "output_type": "stream"
        }
      ],
      "id": "90dc3362-9e72-4879-b5bf-cfd4d345a748"
    },
    {
      "cell_type": "code",
      "source": "print(my_min)",
      "metadata": {
        "trusted": true
      },
      "execution_count": 21,
      "outputs": [
        {
          "name": "stdout",
          "text": "      fun: 1.75\n hess_inv: array([[0.50000001]])\n      jac: array([0.])\n  message: 'Optimization terminated successfully.'\n     nfev: 8\n      nit: 2\n     njev: 4\n   status: 0\n  success: True\n        x: array([-0.50000001])\n",
          "output_type": "stream"
        }
      ],
      "id": "ad5a72a3-0e14-40d7-98ad-426715bc1630"
    },
    {
      "cell_type": "markdown",
      "source": "## SciPy Sparse Data",
      "metadata": {},
      "id": "e8540522-2f06-4e25-9cf9-78d87251f164"
    },
    {
      "cell_type": "markdown",
      "source": "Sparse Data is a data set where most of the item values are zero.\n\nCSC - Compressed Sparse Column. For efficient arithmetic, fast column slicing\n\nCSR - Compressed Sparse Row. For fast row slicing, faster matrix vector products",
      "metadata": {},
      "id": "2b2c9911-06a6-4234-a9aa-9ad9e47031ed"
    },
    {
      "cell_type": "markdown",
      "source": "### CSR Matrix",
      "metadata": {},
      "id": "4b84e971-7e22-4a4c-8707-9b08984e168e"
    },
    {
      "cell_type": "code",
      "source": "import numpy as np\nfrom scipy.sparse import csr_matrix\n\narr = np.array([0, 0, 0, 0, 0, 1, 1, 0, 2])\n\nprint(csr_matrix(arr))",
      "metadata": {
        "trusted": true
      },
      "execution_count": 22,
      "outputs": [
        {
          "name": "stdout",
          "text": "  (0, 5)\t1\n  (0, 6)\t1\n  (0, 8)\t2\n",
          "output_type": "stream"
        }
      ],
      "id": "93be08a3-a884-42bb-82a6-b1cbd8ca7208"
    },
    {
      "cell_type": "code",
      "source": "# Counting nonzeros with the count_nonzero() method:\n\narr = np.array([[0, 1, 0], [0, 0, 1], [1, 0, 2]])\n\nprint(csr_matrix(arr).count_nonzero())",
      "metadata": {
        "trusted": true
      },
      "execution_count": 23,
      "outputs": [
        {
          "name": "stdout",
          "text": "4\n",
          "output_type": "stream"
        }
      ],
      "id": "f3bb2830-f63f-48f5-bce9-fb13301eea91"
    },
    {
      "cell_type": "code",
      "source": "# Removing zero-entries from the matrix with the eliminate_zeros() method:\n\narr = np.array([[1, 0, 0], [0, 0, 1], [1, 0, 2]])\n\nmat = csr_matrix(arr)\nmat.eliminate_zeros()\n\nprint(mat)",
      "metadata": {
        "trusted": true
      },
      "execution_count": 24,
      "outputs": [
        {
          "name": "stdout",
          "text": "  (0, 0)\t1\n  (1, 2)\t1\n  (2, 0)\t1\n  (2, 2)\t2\n",
          "output_type": "stream"
        }
      ],
      "id": "3eb35e31-6a6e-4c5c-ac8a-0e6092f6129c"
    },
    {
      "cell_type": "code",
      "source": "# Eliminating duplicate entries with the sum_duplicates() method:\n\narr = np.array([[0, 0, 1], [0, 0, 1], [1, 0, 2]])\n\nmat = csr_matrix(arr)\nmat.sum_duplicates()\n\nprint(mat)",
      "metadata": {
        "trusted": true
      },
      "execution_count": 25,
      "outputs": [
        {
          "name": "stdout",
          "text": "  (0, 2)\t1\n  (1, 2)\t1\n  (2, 0)\t1\n  (2, 2)\t2\n",
          "output_type": "stream"
        }
      ],
      "id": "365a2a38-05ae-438c-af11-9f20f127150d"
    },
    {
      "cell_type": "markdown",
      "source": "#### Converting from csr to csc with the tocsc() method:",
      "metadata": {},
      "id": "1643fc91-323f-4d93-bf82-b8d088c3017a"
    },
    {
      "cell_type": "code",
      "source": "arr = np.array([[0, 0, 0], [0, 0, 1], [1, 0, 2]])\n\nnewarr = csr_matrix(arr).tocsc()\n\nprint(newarr)",
      "metadata": {
        "trusted": true
      },
      "execution_count": 26,
      "outputs": [
        {
          "name": "stdout",
          "text": "  (2, 0)\t1\n  (1, 2)\t1\n  (2, 2)\t2\n",
          "output_type": "stream"
        }
      ],
      "id": "db035ae6-8d10-4c1f-9e1a-ef25bdcda507"
    },
    {
      "cell_type": "code",
      "source": "print(newarr.data)",
      "metadata": {
        "trusted": true
      },
      "execution_count": 27,
      "outputs": [
        {
          "name": "stdout",
          "text": "[1 1 2]\n",
          "output_type": "stream"
        }
      ],
      "id": "48a04976-b822-4cad-baae-2942595a6dc6"
    },
    {
      "cell_type": "markdown",
      "source": "## Refrence:\n\nhttps://www.w3schools.com/python/scipy/index.php",
      "metadata": {},
      "id": "1e8f80ca-cb47-4d71-a7e9-c8dd835ceb6c"
    },
    {
      "cell_type": "code",
      "source": "",
      "metadata": {},
      "execution_count": null,
      "outputs": [],
      "id": "f824b858-0fac-48ba-a51e-fe36896d5fdf"
    }
  ]
}