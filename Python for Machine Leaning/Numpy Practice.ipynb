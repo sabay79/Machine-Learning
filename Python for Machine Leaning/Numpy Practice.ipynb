{
 "cells": [
  {
   "cell_type": "markdown",
   "id": "008cd055",
   "metadata": {},
   "source": [
    "# Numpy"
   ]
  },
  {
   "cell_type": "markdown",
   "id": "7f16f272",
   "metadata": {},
   "source": [
    "Numerical Python - \n",
    "Numeric & Scientific Computing"
   ]
  },
  {
   "cell_type": "code",
   "execution_count": 1,
   "id": "de6e9ca1",
   "metadata": {},
   "outputs": [],
   "source": [
    "import numpy as np"
   ]
  },
  {
   "cell_type": "markdown",
   "id": "c23a3fcb",
   "metadata": {},
   "source": [
    "### Single-Dimension Array"
   ]
  },
  {
   "cell_type": "code",
   "execution_count": 2,
   "id": "475d1160",
   "metadata": {},
   "outputs": [
    {
     "data": {
      "text/plain": [
       "array([1, 2, 3, 4, 5])"
      ]
     },
     "execution_count": 2,
     "metadata": {},
     "output_type": "execute_result"
    }
   ],
   "source": [
    "sda=np.array([1,2,3,4,5])\n",
    "sda"
   ]
  },
  {
   "cell_type": "markdown",
   "id": "499f511d",
   "metadata": {},
   "source": [
    "### Multi-Dimension Array"
   ]
  },
  {
   "cell_type": "code",
   "execution_count": 3,
   "id": "b019df69",
   "metadata": {},
   "outputs": [
    {
     "data": {
      "text/plain": [
       "array([[ 1,  2,  3,  4,  5],\n",
       "       [ 6,  7,  8,  9, 10]])"
      ]
     },
     "execution_count": 3,
     "metadata": {},
     "output_type": "execute_result"
    }
   ],
   "source": [
    "mda=np.array([[1,2,3,4,5],[6,7,8,9,10]])\n",
    "mda"
   ]
  },
  {
   "cell_type": "markdown",
   "id": "474946cd",
   "metadata": {},
   "source": [
    "### Array Type"
   ]
  },
  {
   "cell_type": "code",
   "execution_count": 4,
   "id": "906ec709",
   "metadata": {},
   "outputs": [
    {
     "name": "stdout",
     "output_type": "stream",
     "text": [
      "<class 'numpy.ndarray'>\n",
      "<class 'numpy.ndarray'>\n"
     ]
    }
   ],
   "source": [
    "print(type(sda))\n",
    "print(type(mda))"
   ]
  },
  {
   "cell_type": "markdown",
   "id": "20d2cf20",
   "metadata": {},
   "source": [
    "### Initializing Numpy Array with Zeros"
   ]
  },
  {
   "cell_type": "code",
   "execution_count": 5,
   "id": "21a976d7",
   "metadata": {},
   "outputs": [
    {
     "data": {
      "text/plain": [
       "array([[0., 0.],\n",
       "       [0., 0.]])"
      ]
     },
     "execution_count": 5,
     "metadata": {},
     "output_type": "execute_result"
    }
   ],
   "source": [
    "n0=np.zeros((2,2))\n",
    "n0"
   ]
  },
  {
   "cell_type": "markdown",
   "id": "c01ee80b",
   "metadata": {},
   "source": [
    "### Initializing Numpy Array with Same Number"
   ]
  },
  {
   "cell_type": "code",
   "execution_count": 6,
   "id": "03f9685a",
   "metadata": {},
   "outputs": [
    {
     "data": {
      "text/plain": [
       "array([[10, 10, 10],\n",
       "       [10, 10, 10]])"
      ]
     },
     "execution_count": 6,
     "metadata": {},
     "output_type": "execute_result"
    }
   ],
   "source": [
    "n1=np.full((2,3),10)\n",
    "n1"
   ]
  },
  {
   "cell_type": "markdown",
   "id": "7242a14a",
   "metadata": {},
   "source": [
    "### Initializing Numpy Array within a range"
   ]
  },
  {
   "cell_type": "code",
   "execution_count": 7,
   "id": "f118f579",
   "metadata": {},
   "outputs": [
    {
     "data": {
      "text/plain": [
       "array([10, 11, 12, 13, 14, 15, 16, 17, 18, 19])"
      ]
     },
     "execution_count": 7,
     "metadata": {},
     "output_type": "execute_result"
    }
   ],
   "source": [
    "n2=np.arange(10,20)\n",
    "n2"
   ]
  },
  {
   "cell_type": "code",
   "execution_count": 8,
   "id": "f53bb89e",
   "metadata": {},
   "outputs": [
    {
     "data": {
      "text/plain": [
       "array([ 2,  4,  6,  8, 10])"
      ]
     },
     "execution_count": 8,
     "metadata": {},
     "output_type": "execute_result"
    }
   ],
   "source": [
    "n2=np.arange(2,11,2)\n",
    "n2"
   ]
  },
  {
   "cell_type": "markdown",
   "id": "4283ecee",
   "metadata": {},
   "source": [
    "### Initializing Numpy Array within random numbers"
   ]
  },
  {
   "cell_type": "code",
   "execution_count": 9,
   "id": "73355177",
   "metadata": {},
   "outputs": [
    {
     "data": {
      "text/plain": [
       "array([79, 68, 36, 61, 78, 91, 98, 74, 74, 14])"
      ]
     },
     "execution_count": 9,
     "metadata": {},
     "output_type": "execute_result"
    }
   ],
   "source": [
    "n3=np.random.randint(10,100,10)\n",
    "n3"
   ]
  },
  {
   "cell_type": "markdown",
   "id": "898db401",
   "metadata": {},
   "source": [
    "### Check and Change shape of Array"
   ]
  },
  {
   "cell_type": "code",
   "execution_count": 10,
   "id": "04fc9c67",
   "metadata": {},
   "outputs": [
    {
     "data": {
      "text/plain": [
       "array([[1, 2, 3],\n",
       "       [4, 5, 6]])"
      ]
     },
     "execution_count": 10,
     "metadata": {},
     "output_type": "execute_result"
    }
   ],
   "source": [
    "n4=np.array([[1,2,3],[4,5,6]])\n",
    "n4"
   ]
  },
  {
   "cell_type": "code",
   "execution_count": 11,
   "id": "a67e03f7",
   "metadata": {},
   "outputs": [
    {
     "data": {
      "text/plain": [
       "(2, 3)"
      ]
     },
     "execution_count": 11,
     "metadata": {},
     "output_type": "execute_result"
    }
   ],
   "source": [
    "n4.shape"
   ]
  },
  {
   "cell_type": "markdown",
   "id": "501bd281",
   "metadata": {},
   "source": [
    "### Reshape"
   ]
  },
  {
   "cell_type": "code",
   "execution_count": 12,
   "id": "728ec463",
   "metadata": {},
   "outputs": [
    {
     "data": {
      "text/plain": [
       "array([[1, 2, 3],\n",
       "       [4, 5, 6],\n",
       "       [7, 8, 9]])"
      ]
     },
     "execution_count": 12,
     "metadata": {},
     "output_type": "execute_result"
    }
   ],
   "source": [
    "nrs=np.arange(1,10).reshape(3,3)\n",
    "nrs"
   ]
  },
  {
   "cell_type": "markdown",
   "id": "14592fc4",
   "metadata": {},
   "source": [
    "### Dimensions"
   ]
  },
  {
   "cell_type": "code",
   "execution_count": 13,
   "id": "77bd2451",
   "metadata": {},
   "outputs": [
    {
     "data": {
      "text/plain": [
       "1"
      ]
     },
     "execution_count": 13,
     "metadata": {},
     "output_type": "execute_result"
    }
   ],
   "source": [
    "nd=np.arange(1,10)\n",
    "nd.ndim"
   ]
  },
  {
   "cell_type": "code",
   "execution_count": 14,
   "id": "ba16e729",
   "metadata": {},
   "outputs": [
    {
     "data": {
      "text/plain": [
       "2"
      ]
     },
     "execution_count": 14,
     "metadata": {},
     "output_type": "execute_result"
    }
   ],
   "source": [
    "nd=np.arange(1,10).reshape(3,3)\n",
    "nd.ndim"
   ]
  },
  {
   "cell_type": "code",
   "execution_count": 15,
   "id": "4d93a05c",
   "metadata": {},
   "outputs": [
    {
     "name": "stdout",
     "output_type": "stream",
     "text": [
      "[[[1 2]\n",
      "  [3 4]]\n",
      "\n",
      " [[5 6]\n",
      "  [7 8]]]\n",
      "\n",
      "Dimensions: 3\n"
     ]
    }
   ],
   "source": [
    "nd=np.array([[[1,2],[3,4]],[[5,6],[7,8]]])\n",
    "print(nd)\n",
    "print('\\nDimensions:',nd.ndim)"
   ]
  },
  {
   "cell_type": "markdown",
   "id": "258bd6f6",
   "metadata": {},
   "source": [
    "### Joining Arrays"
   ]
  },
  {
   "cell_type": "code",
   "execution_count": 16,
   "id": "29756f80",
   "metadata": {},
   "outputs": [],
   "source": [
    "n1=np.array([1,2,3])\n",
    "n2=np.array([10,20,30])\n",
    "n3=np.array([100,200,300])"
   ]
  },
  {
   "cell_type": "code",
   "execution_count": 17,
   "id": "373d9ae6",
   "metadata": {},
   "outputs": [
    {
     "data": {
      "text/plain": [
       "array([[  1,   2,   3],\n",
       "       [ 10,  20,  30],\n",
       "       [100, 200, 300]])"
      ]
     },
     "execution_count": 17,
     "metadata": {},
     "output_type": "execute_result"
    }
   ],
   "source": [
    "np.vstack((n1,n2,n3))"
   ]
  },
  {
   "cell_type": "code",
   "execution_count": 18,
   "id": "8ccb761c",
   "metadata": {},
   "outputs": [
    {
     "data": {
      "text/plain": [
       "array([  1,   2,   3,  10,  20,  30, 100, 200, 300])"
      ]
     },
     "execution_count": 18,
     "metadata": {},
     "output_type": "execute_result"
    }
   ],
   "source": [
    "np.hstack((n1,n2,n3))"
   ]
  },
  {
   "cell_type": "code",
   "execution_count": 19,
   "id": "eaef8e17",
   "metadata": {},
   "outputs": [
    {
     "data": {
      "text/plain": [
       "array([[  1,  10, 100],\n",
       "       [  2,  20, 200],\n",
       "       [  3,  30, 300]])"
      ]
     },
     "execution_count": 19,
     "metadata": {},
     "output_type": "execute_result"
    }
   ],
   "source": [
    "np.column_stack((n1,n2,n3))"
   ]
  },
  {
   "cell_type": "markdown",
   "id": "891f5fa4",
   "metadata": {},
   "source": [
    "### Union"
   ]
  },
  {
   "cell_type": "code",
   "execution_count": 20,
   "id": "2a97a329",
   "metadata": {},
   "outputs": [],
   "source": [
    "n1=np.array([10,20,30,40,50])\n",
    "n2=np.array([50,60,70,80,90])"
   ]
  },
  {
   "cell_type": "code",
   "execution_count": 21,
   "id": "3758b8c1",
   "metadata": {},
   "outputs": [
    {
     "data": {
      "text/plain": [
       "array([10, 20, 30, 40, 50, 60, 70, 80, 90])"
      ]
     },
     "execution_count": 21,
     "metadata": {},
     "output_type": "execute_result"
    }
   ],
   "source": [
    "np.union1d(n1,n2)"
   ]
  },
  {
   "cell_type": "markdown",
   "id": "816eb552",
   "metadata": {},
   "source": [
    "### Intersection & Difference"
   ]
  },
  {
   "cell_type": "code",
   "execution_count": 22,
   "id": "24fa3070",
   "metadata": {},
   "outputs": [
    {
     "data": {
      "text/plain": [
       "array([50])"
      ]
     },
     "execution_count": 22,
     "metadata": {},
     "output_type": "execute_result"
    }
   ],
   "source": [
    "np.intersect1d(n1,n2)"
   ]
  },
  {
   "cell_type": "code",
   "execution_count": 23,
   "id": "1855a699",
   "metadata": {},
   "outputs": [
    {
     "data": {
      "text/plain": [
       "array([10, 20, 30, 40])"
      ]
     },
     "execution_count": 23,
     "metadata": {},
     "output_type": "execute_result"
    }
   ],
   "source": [
    "np.setdiff1d(n1,n2)"
   ]
  },
  {
   "cell_type": "code",
   "execution_count": 24,
   "id": "f5fc037a",
   "metadata": {},
   "outputs": [
    {
     "data": {
      "text/plain": [
       "array([60, 70, 80, 90])"
      ]
     },
     "execution_count": 24,
     "metadata": {},
     "output_type": "execute_result"
    }
   ],
   "source": [
    "np.setdiff1d(n2,n1)"
   ]
  },
  {
   "cell_type": "markdown",
   "id": "96e008bf",
   "metadata": {},
   "source": [
    "### Mathematics Operations on Arrays"
   ]
  },
  {
   "cell_type": "code",
   "execution_count": 25,
   "id": "54a4a136",
   "metadata": {},
   "outputs": [],
   "source": [
    "n1=np.array([10,30])\n",
    "n2=np.array([20,40])"
   ]
  },
  {
   "cell_type": "code",
   "execution_count": 26,
   "id": "e403d1c6",
   "metadata": {},
   "outputs": [
    {
     "data": {
      "text/plain": [
       "100"
      ]
     },
     "execution_count": 26,
     "metadata": {},
     "output_type": "execute_result"
    }
   ],
   "source": [
    "np.sum([n1,n2])"
   ]
  },
  {
   "cell_type": "code",
   "execution_count": 27,
   "id": "fd302d3a",
   "metadata": {},
   "outputs": [
    {
     "data": {
      "text/plain": [
       "array([30, 70])"
      ]
     },
     "execution_count": 27,
     "metadata": {},
     "output_type": "execute_result"
    }
   ],
   "source": [
    "np.sum([n1,n2],axis=0)"
   ]
  },
  {
   "cell_type": "code",
   "execution_count": 28,
   "id": "f88695b9",
   "metadata": {},
   "outputs": [
    {
     "data": {
      "text/plain": [
       "array([40, 60])"
      ]
     },
     "execution_count": 28,
     "metadata": {},
     "output_type": "execute_result"
    }
   ],
   "source": [
    "np.sum([n1,n2],axis=1)"
   ]
  },
  {
   "cell_type": "code",
   "execution_count": 29,
   "id": "15a9869a",
   "metadata": {},
   "outputs": [
    {
     "data": {
      "text/plain": [
       "array([15, 35])"
      ]
     },
     "execution_count": 29,
     "metadata": {},
     "output_type": "execute_result"
    }
   ],
   "source": [
    "n2=n1+5\n",
    "n2"
   ]
  },
  {
   "cell_type": "code",
   "execution_count": 30,
   "id": "c6d4e725",
   "metadata": {},
   "outputs": [
    {
     "data": {
      "text/plain": [
       "array([ 5, 25])"
      ]
     },
     "execution_count": 30,
     "metadata": {},
     "output_type": "execute_result"
    }
   ],
   "source": [
    "n2=n1-5\n",
    "n2"
   ]
  },
  {
   "cell_type": "code",
   "execution_count": 31,
   "id": "1e98ce6a",
   "metadata": {},
   "outputs": [
    {
     "data": {
      "text/plain": [
       "array([ 50, 150])"
      ]
     },
     "execution_count": 31,
     "metadata": {},
     "output_type": "execute_result"
    }
   ],
   "source": [
    "n2=n1*5\n",
    "n2"
   ]
  },
  {
   "cell_type": "code",
   "execution_count": 32,
   "id": "22c688c1",
   "metadata": {},
   "outputs": [
    {
     "data": {
      "text/plain": [
       "array([2., 6.])"
      ]
     },
     "execution_count": 32,
     "metadata": {},
     "output_type": "execute_result"
    }
   ],
   "source": [
    "n2=n1/5\n",
    "n2"
   ]
  },
  {
   "cell_type": "markdown",
   "id": "0dcbf29f",
   "metadata": {},
   "source": [
    "#### Mean"
   ]
  },
  {
   "cell_type": "code",
   "execution_count": 33,
   "id": "2debdffe",
   "metadata": {},
   "outputs": [
    {
     "data": {
      "text/plain": [
       "20.0"
      ]
     },
     "execution_count": 33,
     "metadata": {},
     "output_type": "execute_result"
    }
   ],
   "source": [
    "np.mean(n1)"
   ]
  },
  {
   "cell_type": "markdown",
   "id": "974dc003",
   "metadata": {},
   "source": [
    "#### Standard Deviation"
   ]
  },
  {
   "cell_type": "code",
   "execution_count": 34,
   "id": "81e81dab",
   "metadata": {},
   "outputs": [
    {
     "data": {
      "text/plain": [
       "10.0"
      ]
     },
     "execution_count": 34,
     "metadata": {},
     "output_type": "execute_result"
    }
   ],
   "source": [
    "np.std(n1)"
   ]
  },
  {
   "cell_type": "markdown",
   "id": "1f8016f3",
   "metadata": {},
   "source": [
    "#### Median"
   ]
  },
  {
   "cell_type": "code",
   "execution_count": 35,
   "id": "5fcbc5fd",
   "metadata": {},
   "outputs": [
    {
     "data": {
      "text/plain": [
       "20.0"
      ]
     },
     "execution_count": 35,
     "metadata": {},
     "output_type": "execute_result"
    }
   ],
   "source": [
    "np.median(n1)"
   ]
  },
  {
   "cell_type": "markdown",
   "id": "56f656b6",
   "metadata": {},
   "source": [
    "### Saving and Loading Numpy Array"
   ]
  },
  {
   "cell_type": "code",
   "execution_count": 36,
   "id": "a6d7baab",
   "metadata": {},
   "outputs": [
    {
     "data": {
      "text/plain": [
       "array([  0,   2,   4,   6,   8,  10,  12,  14,  16,  18,  20,  22,  24,\n",
       "        26,  28,  30,  32,  34,  36,  38,  40,  42,  44,  46,  48,  50,\n",
       "        52,  54,  56,  58,  60,  62,  64,  66,  68,  70,  72,  74,  76,\n",
       "        78,  80,  82,  84,  86,  88,  90,  92,  94,  96,  98, 100])"
      ]
     },
     "execution_count": 36,
     "metadata": {},
     "output_type": "execute_result"
    }
   ],
   "source": [
    "n1=np.arange(0,101,2)\n",
    "n1"
   ]
  },
  {
   "cell_type": "code",
   "execution_count": 37,
   "id": "115519a1",
   "metadata": {},
   "outputs": [],
   "source": [
    "np.save('even_numbers',n1)"
   ]
  },
  {
   "cell_type": "code",
   "execution_count": 38,
   "id": "19d66a61",
   "metadata": {},
   "outputs": [
    {
     "data": {
      "text/plain": [
       "array([  0,   2,   4,   6,   8,  10,  12,  14,  16,  18,  20,  22,  24,\n",
       "        26,  28,  30,  32,  34,  36,  38,  40,  42,  44,  46,  48,  50,\n",
       "        52,  54,  56,  58,  60,  62,  64,  66,  68,  70,  72,  74,  76,\n",
       "        78,  80,  82,  84,  86,  88,  90,  92,  94,  96,  98, 100])"
      ]
     },
     "execution_count": 38,
     "metadata": {},
     "output_type": "execute_result"
    }
   ],
   "source": [
    "n2=np.load('even_numbers.npy')\n",
    "n2"
   ]
  },
  {
   "cell_type": "markdown",
   "id": "b7003ff8",
   "metadata": {},
   "source": [
    "### References:"
   ]
  },
  {
   "cell_type": "markdown",
   "id": "6e198fc7",
   "metadata": {},
   "source": [
    "https://olympus.mygreatlearning.com/courses/10899\n"
   ]
  },
  {
   "cell_type": "markdown",
   "id": "1c5b4537",
   "metadata": {},
   "source": [
    "https://www.w3schools.com/python/numpy/default.asp"
   ]
  }
 ],
 "metadata": {
  "kernelspec": {
   "display_name": "Python 3 (ipykernel)",
   "language": "python",
   "name": "python3"
  },
  "language_info": {
   "codemirror_mode": {
    "name": "ipython",
    "version": 3
   },
   "file_extension": ".py",
   "mimetype": "text/x-python",
   "name": "python",
   "nbconvert_exporter": "python",
   "pygments_lexer": "ipython3",
   "version": "3.9.12"
  }
 },
 "nbformat": 4,
 "nbformat_minor": 5
}
